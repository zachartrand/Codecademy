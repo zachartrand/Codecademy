{
 "cells": [
  {
   "cell_type": "markdown",
   "id": "6e035f2b-493a-4e9b-87be-841933a01b2a",
   "metadata": {},
   "source": [
    "# Jeopardy! Project"
   ]
  },
  {
   "cell_type": "markdown",
   "id": "496b12c3-518d-4086-bbe0-563813272420",
   "metadata": {},
   "source": [
    "## Project Goals\n",
    "\n",
    "You will work to write several functions that investigate a dataset of Jeopardy!\n",
    "questions and answers. Filter the dataset for topics that you’re interested in,\n",
    "compute the average difficulty of those questions, and train to become\n",
    "the next Jeopardy champion!"
   ]
  },
  {
   "cell_type": "markdown",
   "id": "686e1f0e-22cc-43e4-9620-dc957c767fe2",
   "metadata": {},
   "source": [
    "## Prerequisites\n",
    "\n",
    "1. In order to complete this project, you should have completed the Pandas lessons in the [Analyze Data with Python Skill Path](https://www.codecademy.com/learn/paths/analyze-data-with-python). You can also find those lessons in the [Data Analysis with Pandas](https://www.codecademy.com/learn/data-processing-pandas) course or the [Data Scientist Career Path](https://www.codecademy.com/learn/paths/data-science/). \n",
    "    \n",
    "    Finally, the [Practical Data Cleaning](https://www.codecademy.com/learn/practical-data-cleaning) course may also be helpful."
   ]
  },
  {
   "cell_type": "markdown",
   "id": "0f9ffdb7-9238-48bc-9d30-a3e51b8182bb",
   "metadata": {},
   "source": [
    "## Project Requirements\n",
    "2. We’ve provided a csv file containing data about the game show Jeopardy! in a file named jeopardy.csv. Load the data into a DataFrame and investigate its contents. Try to print out specific columns.\n",
    "\n",
    "    Note that in order to make this project as “real-world” as possible, we haven’t modified the data at all — we’re giving it to you exactly how we found it. As a result, this data isn’t as “clean” as the datasets you normally find on Codecademy. More specifically, there’s something odd about the column names. After you figure out the problem with the column names, you may want to rename them to make your life easier the rest of the project.\n",
    "\n",
    "    In order to disply the full contents of a column, we’ve added this line of code to the top of your file:\n",
    "    ```python\n",
    "    pd.set_option('display.max_colwidth', -1)\n",
    "    ```"
   ]
  },
  {
   "cell_type": "code",
   "execution_count": 1,
   "id": "10a7d693-f74e-4ebd-969f-5449adc2572f",
   "metadata": {},
   "outputs": [],
   "source": [
    "import pandas as pd\n",
    "pd.set_option('display.max_colwidth', None)\n",
    "\n",
    "jeopardy = pd.read_csv('jeopardy.csv')"
   ]
  },
  {
   "cell_type": "code",
   "execution_count": 2,
   "id": "6abdd05b-8121-4e95-b456-42f23de57bcb",
   "metadata": {},
   "outputs": [
    {
     "name": "stdout",
     "output_type": "stream",
     "text": [
      "Index(['Show Number', ' Air Date', ' Round', ' Category', ' Value',\n",
      "       ' Question', ' Answer'],\n",
      "      dtype='object')\n"
     ]
    }
   ],
   "source": [
    "print(jeopardy.columns)"
   ]
  },
  {
   "cell_type": "code",
   "execution_count": 3,
   "id": "c564df86-aa46-4f68-9080-50d1813cb89a",
   "metadata": {},
   "outputs": [],
   "source": [
    "renamed_columns = {}\n",
    "for column in jeopardy.columns:\n",
    "    renamed_columns[column] = column.lstrip()\n",
    "jeopardy.rename(renamed_columns, axis='columns', inplace=True)\n",
    "# print(jeopardy.columns)"
   ]
  },
  {
   "cell_type": "code",
   "execution_count": 4,
   "id": "001174be-2179-4b1c-961b-83fafb188752",
   "metadata": {},
   "outputs": [],
   "source": [
    "for column in jeopardy.columns:\n",
    "    if jeopardy[column].dtype == 'object':\n",
    "        jeopardy[column] = jeopardy[column].str.strip()"
   ]
  },
  {
   "cell_type": "code",
   "execution_count": 5,
   "id": "4d690ccc-e6dd-49b4-9039-9947f567a0ff",
   "metadata": {},
   "outputs": [
    {
     "data": {
      "text/html": [
       "<div>\n",
       "<style scoped>\n",
       "    .dataframe tbody tr th:only-of-type {\n",
       "        vertical-align: middle;\n",
       "    }\n",
       "\n",
       "    .dataframe tbody tr th {\n",
       "        vertical-align: top;\n",
       "    }\n",
       "\n",
       "    .dataframe thead th {\n",
       "        text-align: right;\n",
       "    }\n",
       "</style>\n",
       "<table border=\"1\" class=\"dataframe\">\n",
       "  <thead>\n",
       "    <tr style=\"text-align: right;\">\n",
       "      <th></th>\n",
       "      <th>Show Number</th>\n",
       "      <th>Air Date</th>\n",
       "      <th>Round</th>\n",
       "      <th>Category</th>\n",
       "      <th>Value</th>\n",
       "      <th>Question</th>\n",
       "      <th>Answer</th>\n",
       "    </tr>\n",
       "  </thead>\n",
       "  <tbody>\n",
       "    <tr>\n",
       "      <th>0</th>\n",
       "      <td>4680</td>\n",
       "      <td>2004-12-31</td>\n",
       "      <td>Jeopardy!</td>\n",
       "      <td>HISTORY</td>\n",
       "      <td>$200</td>\n",
       "      <td>For the last 8 years of his life, Galileo was under house arrest for espousing this man's theory</td>\n",
       "      <td>Copernicus</td>\n",
       "    </tr>\n",
       "    <tr>\n",
       "      <th>1</th>\n",
       "      <td>4680</td>\n",
       "      <td>2004-12-31</td>\n",
       "      <td>Jeopardy!</td>\n",
       "      <td>ESPN's TOP 10 ALL-TIME ATHLETES</td>\n",
       "      <td>$200</td>\n",
       "      <td>No. 2: 1912 Olympian; football star at Carlisle Indian School; 6 MLB seasons with the Reds, Giants &amp; Braves</td>\n",
       "      <td>Jim Thorpe</td>\n",
       "    </tr>\n",
       "    <tr>\n",
       "      <th>2</th>\n",
       "      <td>4680</td>\n",
       "      <td>2004-12-31</td>\n",
       "      <td>Jeopardy!</td>\n",
       "      <td>EVERYBODY TALKS ABOUT IT...</td>\n",
       "      <td>$200</td>\n",
       "      <td>The city of Yuma in this state has a record average of 4,055 hours of sunshine each year</td>\n",
       "      <td>Arizona</td>\n",
       "    </tr>\n",
       "    <tr>\n",
       "      <th>3</th>\n",
       "      <td>4680</td>\n",
       "      <td>2004-12-31</td>\n",
       "      <td>Jeopardy!</td>\n",
       "      <td>THE COMPANY LINE</td>\n",
       "      <td>$200</td>\n",
       "      <td>In 1963, live on \"The Art Linkletter Show\", this company served its billionth burger</td>\n",
       "      <td>McDonald's</td>\n",
       "    </tr>\n",
       "    <tr>\n",
       "      <th>4</th>\n",
       "      <td>4680</td>\n",
       "      <td>2004-12-31</td>\n",
       "      <td>Jeopardy!</td>\n",
       "      <td>EPITAPHS &amp; TRIBUTES</td>\n",
       "      <td>$200</td>\n",
       "      <td>Signer of the Dec. of Indep., framer of the Constitution of Mass., second President of the United States</td>\n",
       "      <td>John Adams</td>\n",
       "    </tr>\n",
       "  </tbody>\n",
       "</table>\n",
       "</div>"
      ],
      "text/plain": [
       "   Show Number    Air Date      Round                         Category Value  \\\n",
       "0         4680  2004-12-31  Jeopardy!                          HISTORY  $200   \n",
       "1         4680  2004-12-31  Jeopardy!  ESPN's TOP 10 ALL-TIME ATHLETES  $200   \n",
       "2         4680  2004-12-31  Jeopardy!      EVERYBODY TALKS ABOUT IT...  $200   \n",
       "3         4680  2004-12-31  Jeopardy!                 THE COMPANY LINE  $200   \n",
       "4         4680  2004-12-31  Jeopardy!              EPITAPHS & TRIBUTES  $200   \n",
       "\n",
       "                                                                                                      Question  \\\n",
       "0             For the last 8 years of his life, Galileo was under house arrest for espousing this man's theory   \n",
       "1  No. 2: 1912 Olympian; football star at Carlisle Indian School; 6 MLB seasons with the Reds, Giants & Braves   \n",
       "2                     The city of Yuma in this state has a record average of 4,055 hours of sunshine each year   \n",
       "3                         In 1963, live on \"The Art Linkletter Show\", this company served its billionth burger   \n",
       "4     Signer of the Dec. of Indep., framer of the Constitution of Mass., second President of the United States   \n",
       "\n",
       "       Answer  \n",
       "0  Copernicus  \n",
       "1  Jim Thorpe  \n",
       "2     Arizona  \n",
       "3  McDonald's  \n",
       "4  John Adams  "
      ]
     },
     "execution_count": 5,
     "metadata": {},
     "output_type": "execute_result"
    }
   ],
   "source": [
    "jeopardy.head()"
   ]
  },
  {
   "cell_type": "markdown",
   "id": "4ea34b87-95ce-4abc-9cd8-62daa410e329",
   "metadata": {},
   "source": [
    "3. Write a function that filters the dataset for questions that contains all of the words in a list of words. For example, when the list `[\"King\", \"England\"]` was passed to our function, the function returned a DataFrame of 152 rows. Every row had the strings `\"King\"` and `\"England\"` somewhere in its `\" Question\"`.\n",
    "\n",
    "    Note that in this example, we found 152 rows by filtering the entire dataset. You can download the entire dataset at the start or end of this project. The dataset used on Codecademy is only a fraction of the dataset so you won’t find as many rows.\n",
    "\n",
    "    Test your function by printing out the column containing the question of each row of the dataset."
   ]
  },
  {
   "cell_type": "code",
   "execution_count": 6,
   "id": "278d336a-d392-4766-974f-2864e0ffcdca",
   "metadata": {},
   "outputs": [],
   "source": [
    "# First version.\n",
    "# def question_filter(dataframe, word_list):\n",
    "#     \"\"\"\n",
    "#     Return a new pandas DataFrame where its 'Question' column contains all\n",
    "#     of the strings in word_list.\n",
    "#     \"\"\"\n",
    "#     new_df = dataframe[dataframe.Question.apply(lambda question: all([(word.lower() in question.lower()) for word in word_list]))]\n",
    "    \n",
    "#     return new_df"
   ]
  },
  {
   "cell_type": "markdown",
   "id": "40fcf25e-b54d-4441-ade8-e87e909887e6",
   "metadata": {},
   "source": [
    "4. Test your original function with a few different sets of words to try to find some ways your function breaks. Edit your function so it is more robust.\n",
    "\n",
    "    For example, think about capitalization. We probably want to find questions that contain the word `\"King\"` or `\"king\"`.\n",
    "\n",
    "    You may also want to check to make sure you don’t find rows that contain substrings of your given words. For example, our function found a question that didn’t contain the word `\"king\"`, however it did contain the word `\"viking\"` — it found the `\"king\"` inside `\"viking\"`. Note that this also comes with some drawbacks — you would no longer find questions that contained words like `\"England's\"`."
   ]
  },
  {
   "cell_type": "code",
   "execution_count": 7,
   "id": "5baea22a-374c-40a1-b192-281babe643ad",
   "metadata": {},
   "outputs": [],
   "source": [
    "# Second version.\n",
    "def question_filter(dataframe, word_list):\n",
    "    \"\"\"\n",
    "    Return a new pandas DataFrame where its 'Question' column contains all\n",
    "    of the strings in word_list.\n",
    "    \"\"\"\n",
    "    if isinstance(word_list, str):\n",
    "        new_df = dataframe[dataframe.Question.apply(lambda question: word_list.lower() in question.lower().split())]\n",
    "    else:\n",
    "        new_df = dataframe[dataframe.Question.apply(lambda question: all([(word.lower() in question.lower().split()) for word in word_list]))]\n",
    "    \n",
    "    return new_df"
   ]
  },
  {
   "cell_type": "markdown",
   "id": "b2e5f184-8bd6-4c9a-88a7-a68a44b2401b",
   "metadata": {},
   "source": [
    "5. We may want to eventually compute aggregate statistics, like `.mean()` on the `\" Value\"` column. But right now, the values in that column are strings. Convert the `\" Value\"` column to floats. If you’d like to, you can create a new column with the float values.\n",
    "\n",
    "    Now that you can filter the dataset of question, use your new column that contains the float values of each question to find the “difficulty” of certain topics. For example, what is the average value of questions that contain the word `\"King\"`?\n",
    "\n",
    "    Make sure to use the dataset that contains the float values as the dataset you use in your filtering function."
   ]
  },
  {
   "cell_type": "code",
   "execution_count": 8,
   "id": "35da6cba-3dad-4de0-b289-19edc6bbffc7",
   "metadata": {},
   "outputs": [],
   "source": [
    "def string_to_float(string):\n",
    "    numeric_characters = []\n",
    "    for character in string:\n",
    "        if character.isdecimal() or character in '.':\n",
    "            numeric_characters.append(character)\n",
    "    new_string = ''.join(numeric_characters)\n",
    "    \n",
    "    try:\n",
    "        return float(new_string)\n",
    "    except:\n",
    "        return float('nan')\n",
    "\n",
    "jeopardy['Value_float'] = jeopardy.Value.apply(string_to_float)"
   ]
  },
  {
   "cell_type": "markdown",
   "id": "ccf1c8e6-f4bf-45af-8ed9-4b1742cae451",
   "metadata": {},
   "source": [
    "Example:"
   ]
  },
  {
   "cell_type": "code",
   "execution_count": 9,
   "id": "6dccc94b-edde-4733-aded-b272c3483f12",
   "metadata": {},
   "outputs": [
    {
     "data": {
      "text/plain": [
       "818.8878000979912"
      ]
     },
     "execution_count": 9,
     "metadata": {},
     "output_type": "execute_result"
    }
   ],
   "source": [
    "question_filter(jeopardy, ['King']).Value_float.mean()"
   ]
  },
  {
   "cell_type": "markdown",
   "id": "0bac1fc3-9520-41f1-8580-33d56af6d4e5",
   "metadata": {},
   "source": [
    "6. Write a function that returns the count of the unique answers to all of the questions in a dataset. For example, after filtering the entire dataset to only questions containing the word `\"King\"`, we could then find all of the unique answers to those questions. The answer “Henry VIII” appeared 3 times and was the most common answer."
   ]
  },
  {
   "cell_type": "code",
   "execution_count": 10,
   "id": "00f02b28-05cc-4f94-bfa9-4f39745b6fd9",
   "metadata": {},
   "outputs": [],
   "source": [
    "def unique_answers(dataframe):\n",
    "    \"\"\"\n",
    "    Return a count of all the unique answers of the dataframe.\n",
    "    \"\"\"\n",
    "    unique_answer_count = dataframe.Answer.value_counts()\n",
    "    \n",
    "    return unique_answer_count"
   ]
  },
  {
   "cell_type": "code",
   "execution_count": 11,
   "id": "ca62a48c-a43d-4457-8dd8-c425abfe56cc",
   "metadata": {},
   "outputs": [
    {
     "data": {
      "text/plain": [
       "Henry VIII                                      41\n",
       "Sweden                                          24\n",
       "Solomon                                         23\n",
       "Norway                                          22\n",
       "Richard III                                     21\n",
       "                                                ..\n",
       "James I (also known as James VI of Scotland)     1\n",
       "Meneleus                                         1\n",
       "the Sierra Nevadas                               1\n",
       "King Solomon                                     1\n",
       "the Equator                                      1\n",
       "Name: Answer, Length: 1165, dtype: int64"
      ]
     },
     "execution_count": 11,
     "metadata": {},
     "output_type": "execute_result"
    }
   ],
   "source": [
    "unique_answers(question_filter(jeopardy, \"King\"))"
   ]
  },
  {
   "cell_type": "markdown",
   "id": "5c9d277c-cf1a-4145-a177-82e8ff8eca63",
   "metadata": {},
   "source": [
    "7. Explore from here! This is an incredibly rich dataset, and there are so many interesting things to discover. There are a few columns that we haven’t even started looking at yet. Here are some ideas on ways to continue working with this data:\n",
    "\n",
    "    * Investigate the ways in which questions change over time by filtering by the date. How many questions from the 90s use the word \"Computer\" compared to questions from the 2000s?\n",
    "    * Is there a connection between the round and the category? Are you more likely to find certain categories, like \"Literature\" in Single Jeopardy or Double Jeopardy?\n",
    "    * Build a system to quiz yourself. Grab random questions, and use the input function to get a response from the user. Check to see if that response was right or wrong. Note that you can’t do this on the Codecademy platform — to do this, download the data, and write and run the code on your own computer!"
   ]
  },
  {
   "cell_type": "code",
   "execution_count": 12,
   "id": "005cfc62-8701-4108-881b-f0b1635064ca",
   "metadata": {},
   "outputs": [],
   "source": [
    "science_questions = jeopardy[jeopardy.Category.str.contains('SCIENCE', case=False)]"
   ]
  },
  {
   "cell_type": "code",
   "execution_count": 13,
   "id": "582d1095-2ee5-4f50-afb7-1f53ffce3351",
   "metadata": {},
   "outputs": [],
   "source": [
    "sherlock_holmes_questions = jeopardy[jeopardy.Category.str.contains('HOLMES', case=False)]"
   ]
  },
  {
   "cell_type": "code",
   "execution_count": 14,
   "id": "6d257c4d-1256-4dd7-9c59-d0ae84fdfd59",
   "metadata": {},
   "outputs": [
    {
     "name": "stdout",
     "output_type": "stream",
     "text": [
      "2230\n",
      "29\n"
     ]
    }
   ],
   "source": [
    "print(len(science_questions))\n",
    "print(len(sherlock_holmes_questions))"
   ]
  },
  {
   "cell_type": "code",
   "execution_count": 15,
   "id": "11b4ba26-2b6c-4927-aa3b-39309515fe7d",
   "metadata": {},
   "outputs": [],
   "source": [
    "# star_wars_categories = ['LUKE', 'HAND, SOLO', 'CHEWY', 'BUBBA FETE', '\"R\"2 \"D\"2']\n",
    "# star_wars_questions = jeopardy[jeopardy.Category.apply(lambda x: x in star_wars_categories)]"
   ]
  },
  {
   "cell_type": "code",
   "execution_count": 16,
   "id": "5bcd15a9-0e24-4bbe-95de-ba22a9162e6d",
   "metadata": {},
   "outputs": [
    {
     "data": {
      "text/plain": [
       "Elvis Presley          16\n",
       "limestone               9\n",
       "Gibraltar               7\n",
       "Sisyphus                7\n",
       "Bob Dylan               5\n",
       "                       ..\n",
       "bullets                 1\n",
       "Goldie's oldies         1\n",
       "Central High School     1\n",
       "Sex Pistols             1\n",
       "Courtney Love           1\n",
       "Name: Answer, Length: 578, dtype: int64"
      ]
     },
     "execution_count": 16,
     "metadata": {},
     "output_type": "execute_result"
    }
   ],
   "source": [
    "unique_answers(question_filter(jeopardy, \"Rock\"))"
   ]
  },
  {
   "cell_type": "code",
   "execution_count": 17,
   "id": "76bb3973-90d2-4a04-b61a-f10d8f6a9683",
   "metadata": {
    "scrolled": true,
    "tags": []
   },
   "outputs": [
    {
     "data": {
      "text/html": [
       "<div>\n",
       "<style scoped>\n",
       "    .dataframe tbody tr th:only-of-type {\n",
       "        vertical-align: middle;\n",
       "    }\n",
       "\n",
       "    .dataframe tbody tr th {\n",
       "        vertical-align: top;\n",
       "    }\n",
       "\n",
       "    .dataframe thead th {\n",
       "        text-align: right;\n",
       "    }\n",
       "</style>\n",
       "<table border=\"1\" class=\"dataframe\">\n",
       "  <thead>\n",
       "    <tr style=\"text-align: right;\">\n",
       "      <th></th>\n",
       "      <th>Show Number</th>\n",
       "      <th>Air Date</th>\n",
       "      <th>Round</th>\n",
       "      <th>Category</th>\n",
       "      <th>Value</th>\n",
       "      <th>Question</th>\n",
       "      <th>Answer</th>\n",
       "      <th>Value_float</th>\n",
       "    </tr>\n",
       "  </thead>\n",
       "  <tbody>\n",
       "    <tr>\n",
       "      <th>3444</th>\n",
       "      <td>5347</td>\n",
       "      <td>2007-12-04</td>\n",
       "      <td>Double Jeopardy!</td>\n",
       "      <td>GEOLOGY</td>\n",
       "      <td>$1200</td>\n",
       "      <td>This rock can be formed by the accumulation of shells or coral, but not from citrus fruit</td>\n",
       "      <td>limestone</td>\n",
       "      <td>1200.0</td>\n",
       "    </tr>\n",
       "    <tr>\n",
       "      <th>4999</th>\n",
       "      <td>308</td>\n",
       "      <td>1985-11-13</td>\n",
       "      <td>Jeopardy!</td>\n",
       "      <td>ROCKS &amp; MINERALS</td>\n",
       "      <td>$500</td>\n",
       "      <td>Fizzing when acid is applied, this mineral is the base of the Portland cement industry</td>\n",
       "      <td>limestone</td>\n",
       "      <td>500.0</td>\n",
       "    </tr>\n",
       "    <tr>\n",
       "      <th>42868</th>\n",
       "      <td>5180</td>\n",
       "      <td>2007-03-02</td>\n",
       "      <td>Jeopardy!</td>\n",
       "      <td>THE FIRST \"STONE\"</td>\n",
       "      <td>$1000</td>\n",
       "      <td>(&lt;a href=\"http://www.j-archive.com/media/2007-03-02_J_05.jpg\" target=\"_blank\"&gt;Jeff Probst reports from Guatemala.&lt;/a&gt;)  Mayan pyramids were characteristically constructed with &lt;a href=\"http://www.j-archive.com/media/2007-03-02_J_05a.jpg\" target=\"_blank\"&gt;this&lt;/a&gt; stone, named for the calcium oxide it produces when burned</td>\n",
       "      <td>limestone</td>\n",
       "      <td>1000.0</td>\n",
       "    </tr>\n",
       "    <tr>\n",
       "      <th>56312</th>\n",
       "      <td>4145</td>\n",
       "      <td>2002-09-13</td>\n",
       "      <td>Double Jeopardy!</td>\n",
       "      <td>GEOLOGY TEST</td>\n",
       "      <td>$1600</td>\n",
       "      <td>Calcium bicarbonate from this, the most abundant soluble rock, is used by sea creatures in forming shells</td>\n",
       "      <td>limestone</td>\n",
       "      <td>1600.0</td>\n",
       "    </tr>\n",
       "    <tr>\n",
       "      <th>79138</th>\n",
       "      <td>5225</td>\n",
       "      <td>2007-05-04</td>\n",
       "      <td>Jeopardy!</td>\n",
       "      <td>REEF MADNESS</td>\n",
       "      <td>$800</td>\n",
       "      <td>The skeletons of coral polyps are made of calcium carbonate, so coral reefs are mainly this sedimentary rock</td>\n",
       "      <td>limestone</td>\n",
       "      <td>800.0</td>\n",
       "    </tr>\n",
       "    <tr>\n",
       "      <th>86867</th>\n",
       "      <td>4594</td>\n",
       "      <td>2004-07-22</td>\n",
       "      <td>Jeopardy!</td>\n",
       "      <td>SEDIMENTARY ROCK</td>\n",
       "      <td>$1000</td>\n",
       "      <td>(&lt;a href=\"http://www.j-archive.com/media/2004-07-22_J_29.wmv\"&gt;Cheryl of the Clue Crew dissolves a piece of rock in a chemistry experiment.&lt;/a&gt;)  With diluted hydrochloric acid, you can test for this rock; the acid reacts with the calcite to form CO&lt;sub&gt;2&lt;/sub&gt;</td>\n",
       "      <td>limestone</td>\n",
       "      <td>1000.0</td>\n",
       "    </tr>\n",
       "    <tr>\n",
       "      <th>101498</th>\n",
       "      <td>5858</td>\n",
       "      <td>2010-02-17</td>\n",
       "      <td>Double Jeopardy!</td>\n",
       "      <td>ROCK</td>\n",
       "      <td>$1600</td>\n",
       "      <td>In its purest form, this rock used in the cement industry contains only calcite</td>\n",
       "      <td>limestone</td>\n",
       "      <td>1600.0</td>\n",
       "    </tr>\n",
       "    <tr>\n",
       "      <th>110745</th>\n",
       "      <td>5572</td>\n",
       "      <td>2008-11-25</td>\n",
       "      <td>Double Jeopardy!</td>\n",
       "      <td>CAVES</td>\n",
       "      <td>$1200</td>\n",
       "      <td>Nevada's formation-rich Lehman Caves are made of low-grade marble, better known as this</td>\n",
       "      <td>limestone</td>\n",
       "      <td>1200.0</td>\n",
       "    </tr>\n",
       "    <tr>\n",
       "      <th>125533</th>\n",
       "      <td>3845</td>\n",
       "      <td>2001-04-27</td>\n",
       "      <td>Double Jeopardy!</td>\n",
       "      <td>I AM A ROCK</td>\n",
       "      <td>$1000</td>\n",
       "      <td>The Rock of Gibraltar is a huge block of this rock made of calcite, a mineral form of calcium carbonate</td>\n",
       "      <td>limestone</td>\n",
       "      <td>1000.0</td>\n",
       "    </tr>\n",
       "    <tr>\n",
       "      <th>151655</th>\n",
       "      <td>1907</td>\n",
       "      <td>1992-12-15</td>\n",
       "      <td>Double Jeopardy!</td>\n",
       "      <td>THE EARTH</td>\n",
       "      <td>$600</td>\n",
       "      <td>Dolomitization is the process by which this rock, including its fossils, turns into dolomite</td>\n",
       "      <td>limestone</td>\n",
       "      <td>600.0</td>\n",
       "    </tr>\n",
       "    <tr>\n",
       "      <th>157503</th>\n",
       "      <td>3158</td>\n",
       "      <td>1998-04-29</td>\n",
       "      <td>Jeopardy!</td>\n",
       "      <td>RETURN OF THE GETTY</td>\n",
       "      <td>$500</td>\n",
       "      <td>The Center includes 16,000 tons of Italian travertine, a type of this \"stone\" that also forms marble</td>\n",
       "      <td>limestone</td>\n",
       "      <td>500.0</td>\n",
       "    </tr>\n",
       "    <tr>\n",
       "      <th>181781</th>\n",
       "      <td>2015</td>\n",
       "      <td>1993-05-14</td>\n",
       "      <td>Double Jeopardy!</td>\n",
       "      <td>ROCKS &amp; MINERALS</td>\n",
       "      <td>$800</td>\n",
       "      <td>The fossils in this type of rock may remain even after it's changed into marble</td>\n",
       "      <td>limestone</td>\n",
       "      <td>800.0</td>\n",
       "    </tr>\n",
       "    <tr>\n",
       "      <th>194819</th>\n",
       "      <td>5090</td>\n",
       "      <td>2006-10-27</td>\n",
       "      <td>Double Jeopardy!</td>\n",
       "      <td>ROCK OF AGES</td>\n",
       "      <td>$1600</td>\n",
       "      <td>The Rock of Gibraltar is made up mostly of this rock that's generally composed of calcium carbonate</td>\n",
       "      <td>limestone</td>\n",
       "      <td>1600.0</td>\n",
       "    </tr>\n",
       "    <tr>\n",
       "      <th>195522</th>\n",
       "      <td>5254</td>\n",
       "      <td>2007-06-14</td>\n",
       "      <td>Double Jeopardy!</td>\n",
       "      <td>SCULPTURE</td>\n",
       "      <td>$2000</td>\n",
       "      <td>The Etruscans carved many of their works from tufa, a soft porous variety of this calcium carbonate rock</td>\n",
       "      <td>limestone</td>\n",
       "      <td>2000.0</td>\n",
       "    </tr>\n",
       "    <tr>\n",
       "      <th>207954</th>\n",
       "      <td>5049</td>\n",
       "      <td>2006-07-20</td>\n",
       "      <td>Double Jeopardy!</td>\n",
       "      <td>COAL RIDGE</td>\n",
       "      <td>$400</td>\n",
       "      <td>Coal dust is very explosive, so mines are sprayed with \"dust\" from this common calcium-rich sedimentary rock</td>\n",
       "      <td>limestone</td>\n",
       "      <td>400.0</td>\n",
       "    </tr>\n",
       "  </tbody>\n",
       "</table>\n",
       "</div>"
      ],
      "text/plain": [
       "        Show Number    Air Date             Round             Category  Value  \\\n",
       "3444           5347  2007-12-04  Double Jeopardy!              GEOLOGY  $1200   \n",
       "4999            308  1985-11-13         Jeopardy!     ROCKS & MINERALS   $500   \n",
       "42868          5180  2007-03-02         Jeopardy!    THE FIRST \"STONE\"  $1000   \n",
       "56312          4145  2002-09-13  Double Jeopardy!         GEOLOGY TEST  $1600   \n",
       "79138          5225  2007-05-04         Jeopardy!         REEF MADNESS   $800   \n",
       "86867          4594  2004-07-22         Jeopardy!     SEDIMENTARY ROCK  $1000   \n",
       "101498         5858  2010-02-17  Double Jeopardy!                 ROCK  $1600   \n",
       "110745         5572  2008-11-25  Double Jeopardy!                CAVES  $1200   \n",
       "125533         3845  2001-04-27  Double Jeopardy!          I AM A ROCK  $1000   \n",
       "151655         1907  1992-12-15  Double Jeopardy!            THE EARTH   $600   \n",
       "157503         3158  1998-04-29         Jeopardy!  RETURN OF THE GETTY   $500   \n",
       "181781         2015  1993-05-14  Double Jeopardy!     ROCKS & MINERALS   $800   \n",
       "194819         5090  2006-10-27  Double Jeopardy!         ROCK OF AGES  $1600   \n",
       "195522         5254  2007-06-14  Double Jeopardy!            SCULPTURE  $2000   \n",
       "207954         5049  2006-07-20  Double Jeopardy!           COAL RIDGE   $400   \n",
       "\n",
       "                                                                                                                                                                                                                                                                                                                                 Question  \\\n",
       "3444                                                                                                                                                                                                                                            This rock can be formed by the accumulation of shells or coral, but not from citrus fruit   \n",
       "4999                                                                                                                                                                                                                                               Fizzing when acid is applied, this mineral is the base of the Portland cement industry   \n",
       "42868   (<a href=\"http://www.j-archive.com/media/2007-03-02_J_05.jpg\" target=\"_blank\">Jeff Probst reports from Guatemala.</a>)  Mayan pyramids were characteristically constructed with <a href=\"http://www.j-archive.com/media/2007-03-02_J_05a.jpg\" target=\"_blank\">this</a> stone, named for the calcium oxide it produces when burned   \n",
       "56312                                                                                                                                                                                                                           Calcium bicarbonate from this, the most abundant soluble rock, is used by sea creatures in forming shells   \n",
       "79138                                                                                                                                                                                                                        The skeletons of coral polyps are made of calcium carbonate, so coral reefs are mainly this sedimentary rock   \n",
       "86867                                                                (<a href=\"http://www.j-archive.com/media/2004-07-22_J_29.wmv\">Cheryl of the Clue Crew dissolves a piece of rock in a chemistry experiment.</a>)  With diluted hydrochloric acid, you can test for this rock; the acid reacts with the calcite to form CO<sub>2</sub>   \n",
       "101498                                                                                                                                                                                                                                                    In its purest form, this rock used in the cement industry contains only calcite   \n",
       "110745                                                                                                                                                                                                                                            Nevada's formation-rich Lehman Caves are made of low-grade marble, better known as this   \n",
       "125533                                                                                                                                                                                                                            The Rock of Gibraltar is a huge block of this rock made of calcite, a mineral form of calcium carbonate   \n",
       "151655                                                                                                                                                                                                                                       Dolomitization is the process by which this rock, including its fossils, turns into dolomite   \n",
       "157503                                                                                                                                                                                                                               The Center includes 16,000 tons of Italian travertine, a type of this \"stone\" that also forms marble   \n",
       "181781                                                                                                                                                                                                                                                    The fossils in this type of rock may remain even after it's changed into marble   \n",
       "194819                                                                                                                                                                                                                                The Rock of Gibraltar is made up mostly of this rock that's generally composed of calcium carbonate   \n",
       "195522                                                                                                                                                                                                                           The Etruscans carved many of their works from tufa, a soft porous variety of this calcium carbonate rock   \n",
       "207954                                                                                                                                                                                                                       Coal dust is very explosive, so mines are sprayed with \"dust\" from this common calcium-rich sedimentary rock   \n",
       "\n",
       "           Answer  Value_float  \n",
       "3444    limestone       1200.0  \n",
       "4999    limestone        500.0  \n",
       "42868   limestone       1000.0  \n",
       "56312   limestone       1600.0  \n",
       "79138   limestone        800.0  \n",
       "86867   limestone       1000.0  \n",
       "101498  limestone       1600.0  \n",
       "110745  limestone       1200.0  \n",
       "125533  limestone       1000.0  \n",
       "151655  limestone        600.0  \n",
       "157503  limestone        500.0  \n",
       "181781  limestone        800.0  \n",
       "194819  limestone       1600.0  \n",
       "195522  limestone       2000.0  \n",
       "207954  limestone        400.0  "
      ]
     },
     "execution_count": 17,
     "metadata": {},
     "output_type": "execute_result"
    }
   ],
   "source": [
    "jeopardy[jeopardy.Answer == \"limestone\"]"
   ]
  },
  {
   "cell_type": "code",
   "execution_count": 18,
   "id": "0eaf34d3-c1ed-460e-8f8f-2281882bee91",
   "metadata": {},
   "outputs": [],
   "source": [
    "rock_questions = jeopardy[\n",
    "    jeopardy.Category.str.contains('ROCK|STONE|GEOLOGY|REEF', regex=True)\n",
    "    | jeopardy.Category.apply(lambda category: category in [\"SCULPTURE\", \"CAVES\"])\n",
    "]"
   ]
  },
  {
   "cell_type": "code",
   "execution_count": 19,
   "id": "52c48f31-97a9-4a36-8c3c-29e9743b50b1",
   "metadata": {
    "scrolled": true,
    "tags": []
   },
   "outputs": [
    {
     "data": {
      "text/plain": [
       "array(['ALBUMS THAT ROCK', 'ROCK WITH YOU', 'MEDICAL MILESTONES',\n",
       "       'RHYMES WITH STONEHENGE', 'ROCK MUSIC', '\"ROCK\"Y', 'ROCK-Y',\n",
       "       \"IT'S ONLY ROCK & ROLL\", 'GEOLOGY', 'CORAL REEF LIFE', 'SCULPTURE',\n",
       "       'ROCKS & MINERALS', \"ROLLING STONE'S 100 GREATEST GUITARISTS\",\n",
       "       'THE KIDS LOVE THAT ROCK & ROLL', 'ROCK & ROLL FRONTMEN',\n",
       "       'ROCK FORMATIONS', 'ROCK OF STAGES', 'THE ROLLING STONES',\n",
       "       'BIRTHSTONES', 'ROCK SONGS', 'THE ROCKETS', 'BRIT ROCK',\n",
       "       'ALTERNATE LITERARY TOMBSTONES', 'ROCK ME',\n",
       "       \"ROCK'S FRONTMEN & WOMEN\", 'COLORFUL ROCK', 'ROCK ‘N ROLL',\n",
       "       'ALL OF OUR \"STONE\"', 'ON THE COVER OF ROLLING STONE',\n",
       "       'POP & ROCK', 'INDIE ROCK', 'TELEVISION MILESTONES', \"'80s ROCK\",\n",
       "       'ROCK & ROLL JEOPARDY!', 'GEMSTONES', 'CLEVELAND ROCKS!',\n",
       "       'BROTHERLY ROCK', 'MICROBIOLOGY MILESTONES', 'NAME THE ROCKERS',\n",
       "       'SCHOOL OF ROCK MOVIES', 'THEY WERE STONED',\n",
       "       'ROCK BAND COUNTRY OF ORIGIN', 'ROCK & ROLL HISTORY', \"'60s ROCK\",\n",
       "       'LET\\'S \"ROCK\"!', \"ROLLING STONE'S 50 GREATEST ARTISTS\",\n",
       "       'THE ROCK', 'BIG \"ROCK\"', 'ROCK STARS ENCYCLOPEDIA ENTRIES',\n",
       "       'ROCK AROUND AMERICA', 'ROCK LYRICS', 'ROCK & ROLL RHYME TIME',\n",
       "       'CANADA ROCKS', 'CHRIS ROCKS', 'ROLLING STONE',\n",
       "       'THE DREIDEL WILL ROCK', 'THE \"ROCKY\"s',\n",
       "       'THE ROCK & ROLL CALENDAR', \"IT AIN'T ROCKET SCIENCE\",\n",
       "       'ROCK GROUPS', 'THE FIRST \"STONE\"', 'SCHOOL OF ROCK',\n",
       "       \"ROLLING STONE'S 100 GREATEST GUITAR SONGS\", 'ROCK \"E\"',\n",
       "       'ROCK ARTISTS', 'MATH ROCK', 'POP-ROCK', 'THE STONES',\n",
       "       'DAVY CROCKETT', 'ROLLING \"STONE\"', 'ROCK & ROLL',\n",
       "       'ROCKET SCIENCE', 'ROCKS', '\"UNK\" ROCK', 'GEOLOGY TEST',\n",
       "       \"ROLLING STONE'S 50 BEST SONGS OF THE DECADE\", 'ON THE ROCKS',\n",
       "       'STONEHENGE', 'PHYSICS, BRAIN SURGERY & ROCKET SCIENCE',\n",
       "       'POP & ROCK GROUPS', 'ROCKERS BANNED IN THE USSR', '\"ROCK\" SONGS',\n",
       "       'READING, WRITING & ROCK & ROLL', \"ROCKIN' T-SHIRTS\", \"LET'S ROCK\",\n",
       "       'LITERARY ROCK & ROLL', 'THEIR ALBUMS ROCK', \"ROCK 'N' ROLL\",\n",
       "       'ROCK STARS', 'ROCK BAND INITIALS', 'THE HOT \"ROCK\"',\n",
       "       \"HAIL, HAIL ROCK 'N' ROLL\", \"ROCK 'N' ROLL HISTORY\",\n",
       "       'CLASSIC ROCK OPENING LINES', 'ROCK STARS SAY THE DARNDEST THINGS',\n",
       "       'JOHNNY GILBERT ROCKS!', 'COMPUTER MILESTONES',\n",
       "       'ROCK & ROLL HALL OF FAME', 'ROCK LEGENDS',\n",
       "       '\"ROCK\"IN\\' & A-\"ROLL\"IN\\'', 'CORNERSTONES', 'REEF MADNESS',\n",
       "       'ROCK & POP', 'JOHNNY GILBERT, ROCK GOD', 'POP/ROCK WOMEN',\n",
       "       \"ROCK'S ROOTS\", 'ROCK', 'ROCK COLLECTING',\n",
       "       'ROLLING STONES HITS IN OTHER WORDS', '1960s ROCK',\n",
       "       'DON\\'T KNOCK THE \"ROCK\"', 'SEDIMENTARY ROCK', 'SENTIMENTAL ROCK',\n",
       "       'ROCK & ROLL IS HERE TO STAY', 'KID ROCK', '\"B\" IN ROCK',\n",
       "       'ROCK BACKUP GROUPS', 'JOHNNY GILBERT RAPS & ROCKS ON',\n",
       "       '1960s ROCK LYRICS', '1980s ROCK',\n",
       "       'BEST FEMALE ROCK VOCAL GRAMMYS', 'ROCK BANDS',\n",
       "       'THE NON-BEATLES ROCK BAND', 'SHAM ROCKS', \"DON'T ROCK THE...\",\n",
       "       'ALEX ROCKS IN CONCERT', 'REWRITTEN TOMBSTONES', 'LITTLE ROCK',\n",
       "       'CLASSICAL ROCK', 'THE KEYSTONE STATE', '3rd ROCK FROM THE SUN',\n",
       "       'THE ROCK & ROLL HALL OF FAME & MUSEUM', 'ROCK OF AGELESS',\n",
       "       'CAVES', 'THE ROCKIES', 'WOMEN WHO ROCK', \"ROCK 'N' POP\",\n",
       "       'ROCK MY WORLD', 'ROCKET MAN', 'CROCODILE ROCK',\n",
       "       \"ROLLING STONE'S 20 MOST ANNOYING SONGS\", 'ROCK GOES POSTAL',\n",
       "       '\"STICK\"S & \"STONE\"S', 'STICKS & STONES', 'GROVER CLEVELAND ROCKS',\n",
       "       'ROLLING STONES SONGS', 'THE 21st CENTURY ROCKS',\n",
       "       'ROCKING THE BABY', 'ANIMALS ROCK', 'ENTERTAINMENT MILESTONES',\n",
       "       'ROCK SINGERS', '1970s ROCK',\n",
       "       \"ROLLING STONE'S 100 GREATEST SINGERS\", \"THEY'RE STONED\",\n",
       "       'I AM A ROCK', 'SHE MARRIED A ROCKER', 'ROCK ON!',\n",
       "       '\"ROCK\" & \"ROLL\"', 'MILESTONES', \"ROCK STARS' BACKSTAGE NEEDS\",\n",
       "       '\"ROCK\" & \"ROLL\" SONGS', 'ROCK STARS SELL OUT',\n",
       "       'LIKE A ROLLING STONE', 'FAKE ROCK BANDS & SINGERS',\n",
       "       'ROCK \"G\"ROUPS', 'SLIPPERY \"ROCK\"', 'A LITTLE BIT ROCK & ROLL',\n",
       "       'ROCK BAND DRUMMERS', 'BEFORE THEY WERE ROCKS', '1980s ROCK MUSIC',\n",
       "       'SCHOOLHOUSE ROCK', \"LET'S ROCK!\", 'ROCKS FOR JOCKS',\n",
       "       'ROCK MUSIC GEOGRAPHY', \"THE ROCKETTES' RED GLARE\",\n",
       "       'ROCK YOUR WORLD', 'ROCKY', 'MILESTONE BIRTHDAYS 2008',\n",
       "       'ROCK & ROLL HEAVEN', 'ROCK & ROLL HALL OF FAMERS', 'ROLLING ROCK',\n",
       "       'ROCK ICONS', 'CLASSIC YUMMY ROCKERS', 'ALPHABET ROCKERS',\n",
       "       'FIND THE BIRTHSTONE', 'PRUFROCKIAN PONDERINGS', 'ROCK PERFORMERS',\n",
       "       \"ROCK N' ROLL HEAVEN\", 'MEET THE FLINTSTONES',\n",
       "       'POLITICAL ROCK & ROLL', \"ROCKIN' ROLE\", 'LULLABIES THAT ROCK',\n",
       "       '\"STONE\"S', 'ROCK BAND', 'PRECIOUS STONES', '\"LITTLE\" ROCK',\n",
       "       'BIRTHSTONES... MEET THE BIRTHSTONES', '1990s POP/ROCK',\n",
       "       \"THAT NEWFANGLED ROCK 'N' ROLL\", 'THANK YOU, I PREFER NOT TO ROCK',\n",
       "       'PICTURE THE ROLLING STONES HIT', 'ROCKS & STUFF',\n",
       "       \"'60s BRITISH ROCK\", 'PAPA WAS A ROLLING STONE', 'STONED',\n",
       "       'ROCK & ROLL PYRAMID', 'CHRISTIAN ROCK', \"I'M A ROCK STAR\",\n",
       "       'ROCK AROUND THE SOLAR SYSTEM', 'THE LADIES OF ROCK',\n",
       "       \"ROLLING STONE'S 500 GREATEST SONGS\", 'CLASSIC ROCK LYRICS',\n",
       "       \"THOSE ROCKIN' '90s\", 'POP & ROCK MUSIC', 'ROCK NICKNAMES',\n",
       "       'ROCKS & STONES', 'NEW ROCK', 'SCHOOLS OF ROCK',\n",
       "       'CLASSICAL MUSIC ROCKS', 'ROCKERS', 'BRITISH ROCKERS',\n",
       "       \"THAT GOOD OLD '60s ROCK & ROLL\", 'FROZEN IN STONE',\n",
       "       'ROCK OF AGES', 'TOMBSTONE', 'THIRD ROCK FROM THE SUN',\n",
       "       '\"STICK\"s & \"STONE\"s', 'JAILHOUSE ROCK',\n",
       "       'MILESTONE BIRTHDAYS 2009', 'YELLOWSTONE NATIONAL PARK',\n",
       "       'MEET THE FLINT STONES', 'MILESTONES IN MATH', \"ROCKIN' SUBTITLES\",\n",
       "       \"ROCK 'N OLD\", 'CLASSIC ROCK', 'ROCK ME, AMADEUS',\n",
       "       'MONSTERS OF ROCK', 'DOUBLE TALK ROCK', 'ON THEIR TOMBSTONES',\n",
       "       'COP ROCK', \"ROCKIN' STUPID ANSWERS\", 'U.S. GEOLOGY',\n",
       "       'ETCHED IN STONE', 'HARD ROCK CAFE'], dtype=object)"
      ]
     },
     "execution_count": 19,
     "metadata": {},
     "output_type": "execute_result"
    }
   ],
   "source": [
    "rock_questions.Category.unique()"
   ]
  },
  {
   "cell_type": "code",
   "execution_count": 20,
   "id": "75244712-28eb-4c96-86e2-aeeb056c7153",
   "metadata": {},
   "outputs": [],
   "source": [
    "from random import randrange\n",
    "\n",
    "\n",
    "def string_unformatted(string):\n",
    "    stripped_string = string.strip()\n",
    "    unformatted_string = ''.join(stripped_string.lower().split())\n",
    "    return unformatted_string\n",
    "\n",
    "\n",
    "def get_question_and_answer(dataframe, value=0.0, category=''):\n",
    "    \"\"\"\"\"\"\n",
    "    question_df = dataframe\n",
    "    if value:\n",
    "        question_df = question_df[question_df.Value_float == value]\n",
    "    if category:\n",
    "        question_df = question_df[question_df.Category == category]\n",
    "        \n",
    "    if len(question_df) > 1:\n",
    "        number_of_questions = len(question_df)\n",
    "        row = question_df.iloc[randrange(number_of_questions)]\n",
    "    else:\n",
    "        row = question_df.iloc[0]\n",
    "    \n",
    "    return row\n",
    "\n",
    "\n",
    "def ask_question_get_answer(row):\n",
    "    category = row.Category\n",
    "    value = row.Value\n",
    "    question = row.Question\n",
    "    answer = row.Answer\n",
    "    answer_unformatted = string_unformatted(answer)\n",
    "    guess = string_unformatted(input(''.join([f\"{category} for {value}:\", \"\\n\\n\", question, \"\\n\"])))\n",
    "    if guess == answer_unformatted:\n",
    "        print(\"That's correct!\")\n",
    "    else:\n",
    "        print(f\"Incorrect. The correct answer was {answer}.\")\n",
    "\n",
    "\n",
    "def jeopardy_quiz(dataframe):\n",
    "    \"\"\"\"\"\"\n",
    "    question, answer = get_question_and_answer(dataframe, value, category)\n",
    "    pass"
   ]
  },
  {
   "cell_type": "markdown",
   "id": "58f6b9e5-0f41-4cc0-8ee8-e50bda3b1369",
   "metadata": {},
   "source": [
    "Example play:"
   ]
  },
  {
   "cell_type": "code",
   "execution_count": 21,
   "id": "777d4def-cbe4-49ff-bb7c-a3680dc84ea4",
   "metadata": {},
   "outputs": [
    {
     "name": "stdin",
     "output_type": "stream",
     "text": [
      "THEME PARK THRILLERS for $500:\n",
      "\n",
      "With \"Mantis\" making an even dozen, Cedar Point in this state has the most roller coasters of any park\n",
      " Ohio\n"
     ]
    },
    {
     "name": "stdout",
     "output_type": "stream",
     "text": [
      "That's correct!\n"
     ]
    }
   ],
   "source": [
    "ask_question_get_answer(get_question_and_answer(jeopardy))"
   ]
  }
 ],
 "metadata": {
  "kernelspec": {
   "display_name": "Python 3",
   "language": "python",
   "name": "python3"
  },
  "language_info": {
   "codemirror_mode": {
    "name": "ipython",
    "version": 3
   },
   "file_extension": ".py",
   "mimetype": "text/x-python",
   "name": "python",
   "nbconvert_exporter": "python",
   "pygments_lexer": "ipython3",
   "version": "3.8.10"
  }
 },
 "nbformat": 4,
 "nbformat_minor": 5
}
